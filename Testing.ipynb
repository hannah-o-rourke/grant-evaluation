{
  "nbformat": 4,
  "nbformat_minor": 0,
  "metadata": {
    "colab": {
      "name": "Untitled2.ipynb",
      "provenance": [],
      "authorship_tag": "ABX9TyMEiWSZVDVHXvkdPkpcHBe+",
      "include_colab_link": true
    },
    "kernelspec": {
      "name": "python3",
      "display_name": "Python 3"
    },
    "language_info": {
      "name": "python"
    }
  },
  "cells": [
    {
      "cell_type": "markdown",
      "metadata": {
        "id": "view-in-github",
        "colab_type": "text"
      },
      "source": [
        "<a href=\"https://colab.research.google.com/github/hannah-o-rourke/grant-evaluation/blob/main/Testing.ipynb\" target=\"_parent\"><img src=\"https://colab.research.google.com/assets/colab-badge.svg\" alt=\"Open In Colab\"/></a>"
      ]
    },
    {
      "cell_type": "code",
      "metadata": {
        "id": "H4Kg2X3in4IA"
      },
      "source": [
        "import pandas as pd\n",
        "\n"
      ],
      "execution_count": 5,
      "outputs": []
    },
    {
      "cell_type": "code",
      "metadata": {
        "id": "FsyjzFuKot3C"
      },
      "source": [
        "url = 'https://raw.githubusercontent.com/hannah-o-rourke/grant-evaluation/main/variables.csv'"
      ],
      "execution_count": 7,
      "outputs": []
    },
    {
      "cell_type": "code",
      "metadata": {
        "id": "rnoFgrkTozqB"
      },
      "source": [
        "df1 = pd.read_csv(url)"
      ],
      "execution_count": 8,
      "outputs": []
    },
    {
      "cell_type": "code",
      "metadata": {
        "colab": {
          "base_uri": "https://localhost:8080/"
        },
        "id": "11wpWQw1pAHL",
        "outputId": "508141e9-1dd4-421b-f966-3d62f9d24bc9"
      },
      "source": [
        "df1.shape"
      ],
      "execution_count": 9,
      "outputs": [
        {
          "output_type": "execute_result",
          "data": {
            "text/plain": [
              "(38, 13)"
            ]
          },
          "metadata": {},
          "execution_count": 9
        }
      ]
    },
    {
      "cell_type": "code",
      "metadata": {
        "colab": {
          "base_uri": "https://localhost:8080/"
        },
        "id": "-dE0zI1Np1qz",
        "outputId": "1b6b117f-6d64-49a5-a815-4c5edc899b49"
      },
      "source": [
        "df1.head"
      ],
      "execution_count": 10,
      "outputs": [
        {
          "output_type": "execute_result",
          "data": {
            "text/plain": [
              "<bound method NDFrame.head of     Number  ... Last Worked On \n",
              "0        3  ...             NaN\n",
              "1        4  ...             NaN\n",
              "2        6  ...             NaN\n",
              "3        7  ...             NaN\n",
              "4       12  ...             NaN\n",
              "5       20  ...             NaN\n",
              "6       23  ...             NaN\n",
              "7       25  ...             NaN\n",
              "8       26  ...             NaN\n",
              "9       38  ...             NaN\n",
              "10      49  ...             NaN\n",
              "11      52  ...             NaN\n",
              "12      55  ...             NaN\n",
              "13      60  ...             NaN\n",
              "14      71  ...             NaN\n",
              "15      78  ...             NaN\n",
              "16      82  ...             NaN\n",
              "17      87  ...             NaN\n",
              "18      98  ...             NaN\n",
              "19     102  ...             NaN\n",
              "20     104  ...             NaN\n",
              "21     108  ...             NaN\n",
              "22     119  ...             NaN\n",
              "23     123  ...             NaN\n",
              "24     126  ...             NaN\n",
              "25     130  ...             NaN\n",
              "26     134  ...             NaN\n",
              "27     138  ...             NaN\n",
              "28     142  ...             NaN\n",
              "29     145  ...             NaN\n",
              "30     146  ...             NaN\n",
              "31     156  ...             NaN\n",
              "32     158  ...             NaN\n",
              "33     161  ...             NaN\n",
              "34     190  ...             NaN\n",
              "35     193  ...             NaN\n",
              "36     194  ...             NaN\n",
              "37     195  ...             NaN\n",
              "\n",
              "[38 rows x 13 columns]>"
            ]
          },
          "metadata": {},
          "execution_count": 10
        }
      ]
    }
  ]
}